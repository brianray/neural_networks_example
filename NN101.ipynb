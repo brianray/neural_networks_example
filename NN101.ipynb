{
 "cells": [
  {
   "cell_type": "code",
   "execution_count": null,
   "metadata": {
    "collapsed": false
   },
   "outputs": [],
   "source": [
    "%run \"NN101_helpers.ipynb\""
   ]
  },
  {
   "cell_type": "markdown",
   "metadata": {},
   "source": [
    "# Olivetti Faces Dataset"
   ]
  },
  {
   "cell_type": "code",
   "execution_count": null,
   "metadata": {
    "collapsed": false,
    "scrolled": true
   },
   "outputs": [],
   "source": [
    "# list out dataset\n",
    "fig = plt.figure()\n",
    "gs = gridspec.GridSpec(5, 8, wspace=0.0)\n",
    "ax = [plt.subplot(gs[i]) for i in range(40)]\n",
    "gs.update(hspace=0)\n",
    "for i in range(0,399,10):\n",
    "    if has_glasses[i] >= 0:\n",
    "        ax[i/10].imshow(fd.images[i], cmap='gist_gray')\n",
    "    ax[i/10].axis('off')\n"
   ]
  },
  {
   "cell_type": "code",
   "execution_count": null,
   "metadata": {
    "collapsed": false
   },
   "outputs": [],
   "source": [
    "show_face_row(16)\n",
    "show_face_row(18)"
   ]
  },
  {
   "cell_type": "code",
   "execution_count": null,
   "metadata": {
    "collapsed": false
   },
   "outputs": [],
   "source": [
    "imshow(fd.images[1*10+2], cmap=\"gist_gray\")"
   ]
  },
  {
   "cell_type": "code",
   "execution_count": null,
   "metadata": {
    "collapsed": false,
    "scrolled": true
   },
   "outputs": [],
   "source": [
    "print \"Matrix dimensions:\"\n",
    "print fd.images[16*10].shape\n",
    "for i in range(0, fd.images[16*10].shape[0], 3):\n",
    "    for j in range(0, fd.images[16*10].shape[1], 3):\n",
    "        print np.round(fd.images[16*10][i,j],2),\n",
    "    print \"\""
   ]
  },
  {
   "cell_type": "markdown",
   "metadata": {},
   "source": [
    "# Glasses or Not?\n",
    "#### How to train a Neural Net to recognize glasses"
   ]
  },
  {
   "cell_type": "code",
   "execution_count": null,
   "metadata": {
    "collapsed": false,
    "scrolled": true
   },
   "outputs": [],
   "source": [
    "# Setup targets\n",
    "print flattened_data.shape\n",
    "print target_glasses"
   ]
  },
  {
   "cell_type": "markdown",
   "metadata": {},
   "source": [
    "# Setup up Neural Network for glasses/not"
   ]
  },
  {
   "cell_type": "code",
   "execution_count": null,
   "metadata": {
    "collapsed": false
   },
   "outputs": [],
   "source": [
    "# are 5 iterations and 1 hidden neuron going to be enough?\n",
    "nnmlp = MLPClassifier(\n",
    "    activation='tanh',\n",
    "    hidden_layer_sizes=(1),\n",
    "    solver='sgd',\n",
    "    verbose=False, \n",
    "    tol=1e-5, \n",
    "    max_iter=5)"
   ]
  },
  {
   "cell_type": "code",
   "execution_count": null,
   "metadata": {
    "collapsed": false,
    "scrolled": true
   },
   "outputs": [],
   "source": [
    "nncls = nnmlp.fit(flattened_data[gtraining], target_glasses[gtraining])"
   ]
  },
  {
   "cell_type": "code",
   "execution_count": null,
   "metadata": {
    "collapsed": false
   },
   "outputs": [],
   "source": [
    "nncls.score(flattened_data[gtraining], target_glasses[gtraining])"
   ]
  },
  {
   "cell_type": "code",
   "execution_count": null,
   "metadata": {
    "collapsed": false
   },
   "outputs": [],
   "source": [
    "print \"Number of layers: %s\\nOutput activations: %s\" % (nncls.n_layers_, nncls.n_outputs_)"
   ]
  },
  {
   "cell_type": "markdown",
   "metadata": {},
   "source": [
    "# A look inside the Neural Network"
   ]
  },
  {
   "cell_type": "markdown",
   "metadata": {},
   "source": [
    "### the raw data"
   ]
  },
  {
   "cell_type": "code",
   "execution_count": null,
   "metadata": {
    "collapsed": false,
    "scrolled": true
   },
   "outputs": [],
   "source": [
    "for i, layer in enumerate(nncls.coefs_):\n",
    "    print \"Layer:\", i\n",
    "    print \"  intercept:\", nncls.intercepts_[i]\n",
    "    print \"  Coefs:\", layer.shape \n",
    "    print layer"
   ]
  },
  {
   "cell_type": "markdown",
   "metadata": {},
   "source": [
    "### a visual display of the neurons"
   ]
  },
  {
   "cell_type": "code",
   "execution_count": null,
   "metadata": {
    "collapsed": false,
    "scrolled": false
   },
   "outputs": [],
   "source": [
    "print_neurons(nncls, layer = 0)\n",
    "print_neurons(nncls, layer = 1)\n",
    "#print_neurons(nncls, layer = 2)"
   ]
  },
  {
   "cell_type": "code",
   "execution_count": null,
   "metadata": {
    "collapsed": false
   },
   "outputs": [],
   "source": [
    "nncls.predict_proba(flattened_data[~gtraining])"
   ]
  },
  {
   "cell_type": "markdown",
   "metadata": {
    "collapsed": false
   },
   "source": [
    "# Compare logistic regression on glasses/not"
   ]
  },
  {
   "cell_type": "code",
   "execution_count": null,
   "metadata": {
    "collapsed": true
   },
   "outputs": [],
   "source": [
    "logit = LogisticRegression(tol=1e-5, max_iter=5)"
   ]
  },
  {
   "cell_type": "code",
   "execution_count": null,
   "metadata": {
    "collapsed": false
   },
   "outputs": [],
   "source": [
    "print logit.fit(flattened_data[gtraining], target_glasses[gtraining])\n"
   ]
  },
  {
   "cell_type": "code",
   "execution_count": null,
   "metadata": {
    "collapsed": false
   },
   "outputs": [],
   "source": [
    "print \"Layer:\", 0\n",
    "print \"  intercept:\", logit.intercept_\n",
    "print \"  Coefs:\", logit.coef_.shape\n",
    "print \"  \", logit.coef_.transpose()"
   ]
  },
  {
   "cell_type": "code",
   "execution_count": null,
   "metadata": {
    "collapsed": false
   },
   "outputs": [],
   "source": [
    "logistic_activations = imshow(\n",
    "    logit.coef_.reshape((64,64)), cmap='gist_gray', interpolation=\"nearest\")"
   ]
  },
  {
   "cell_type": "markdown",
   "metadata": {},
   "source": [
    "# ROC Curves on glasses/not"
   ]
  },
  {
   "cell_type": "code",
   "execution_count": null,
   "metadata": {
    "collapsed": false
   },
   "outputs": [],
   "source": [
    "tpr_l, fpr_l, thh_l = return_roc_curve(flattened_data, target_glasses, logit, ~gtraining)\n",
    "tpr_n, fpr_n, thh_n = return_roc_curve(flattened_data, target_glasses, nncls, ~gtraining)\n",
    "plot_roc(flattened_data, target_glasses, logit, nncls, gtraining)"
   ]
  },
  {
   "cell_type": "markdown",
   "metadata": {},
   "source": [
    "# Learning Curves and Benchmarking on glasses/not"
   ]
  },
  {
   "cell_type": "code",
   "execution_count": null,
   "metadata": {
    "collapsed": false,
    "scrolled": true
   },
   "outputs": [],
   "source": [
    "nnmlp = MLPClassifier(\n",
    "    activation='tanh',\n",
    "    hidden_layer_sizes=(36,4),\n",
    "    solver='sgd',\n",
    "    verbose=False, \n",
    "    tol=1e-4, \n",
    "    max_iter=200)\n",
    "logit = LogisticRegression(tol=1e-4, max_iter=200)\n",
    "nn_curve = np.array(learning_curve(\n",
    "    model=nnmlp, data=flattened_data, target=has_glasses, test_set=~gtraining, rs=1000))\n",
    "lg_curve = np.array(learning_curve(\n",
    "    model=logit, data=flattened_data, target=has_glasses, test_set=~gtraining, rs=1000))\n",
    "#for i in [1,2]:\n",
    "#    nn_curve = nn_curve + np.array(learning_curve(\n",
    "#        model=nnmlp, data=flattened_data, target=has_glasses, test_set=~gtraining, rs=i))\n",
    "#    lg_curve = lg_curve + np.array(learning_curve(\n",
    "#        model=logit, data=flattened_data, target=has_glasses, test_set=~gtraining, rs=i))\n"
   ]
  },
  {
   "cell_type": "code",
   "execution_count": null,
   "metadata": {
    "collapsed": false
   },
   "outputs": [],
   "source": [
    "np.array(nn_curve) + np.array(nn_curve)"
   ]
  },
  {
   "cell_type": "code",
   "execution_count": null,
   "metadata": {
    "collapsed": false
   },
   "outputs": [],
   "source": [
    "fig = plt.figure()\n",
    "gs = gridspec.GridSpec(1, 2)\n",
    "ax = [plt.subplot(gs[0]), plt.subplot(gs[1])]\n",
    "x = ax[0].plot(nn_curve[0], nn_curve[1], \"blue\", nn_curve[0], nn_curve[2], \"b--\", zorder=10)\n",
    "y = ax[1].plot(lg_curve[0], lg_curve[1], \"green\", lg_curve[0], lg_curve[2], \"g--\", zorder=10)\n",
    "plt.show()\n",
    "\n",
    "plt.plot(nn_curve[0], nn_curve[3], \"blue\", lg_curve[0], lg_curve[3], \"green\")\n",
    "plt.show()"
   ]
  },
  {
   "cell_type": "code",
   "execution_count": null,
   "metadata": {
    "collapsed": false,
    "scrolled": true
   },
   "outputs": [],
   "source": [
    "fig = plt.figure()\n",
    "gs = gridspec.GridSpec(1, 2)\n",
    "ax = [plt.subplot(gs[0]), plt.subplot(gs[1])]\n",
    "x = ax[0].plot(nn_curve[0], nn_curve[1], \"blue\", nn_curve[0], nn_curve[2], \"b--\", zorder=10)\n",
    "y = ax[1].plot(lg_curve[0], lg_curve[1], \"green\", lg_curve[0], lg_curve[2], \"g--\", zorder=10)\n",
    "plt.show()\n",
    "\n",
    "plt.plot(nn_curve[0], nn_curve[3], \"blue\", lg_curve[0], lg_curve[3], \"green\")\n",
    "plt.show()"
   ]
  },
  {
   "cell_type": "markdown",
   "metadata": {},
   "source": [
    "# Beards and Glasses\n",
    "#### Lets complicate things a little"
   ]
  },
  {
   "cell_type": "code",
   "execution_count": null,
   "metadata": {
    "collapsed": false
   },
   "outputs": [],
   "source": [
    "glasses_and_beard = has_beard * has_glasses"
   ]
  },
  {
   "cell_type": "code",
   "execution_count": null,
   "metadata": {
    "collapsed": false
   },
   "outputs": [],
   "source": [
    "glasses_and_beard[gtraining]"
   ]
  },
  {
   "cell_type": "code",
   "execution_count": null,
   "metadata": {
    "collapsed": false
   },
   "outputs": [],
   "source": [
    "nnmlp = MLPClassifier(\n",
    "    activation='tanh', \n",
    "    hidden_layer_sizes=(16,8), \n",
    "    solver='sgd', verbose=True, \n",
    "    tol=1e-5, random_state=2000, max_iter=100, learning_rate_init=1e-4)"
   ]
  },
  {
   "cell_type": "code",
   "execution_count": null,
   "metadata": {
    "collapsed": false,
    "scrolled": true
   },
   "outputs": [],
   "source": [
    "nncls = nnmlp.fit(flattened_data[gtraining], glasses_and_beard[gtraining])"
   ]
  },
  {
   "cell_type": "code",
   "execution_count": null,
   "metadata": {
    "collapsed": false
   },
   "outputs": [],
   "source": [
    "print \"Number of layers: %s\\nOutput activations: %s\" % (nncls.n_layers_, nncls.n_outputs_)"
   ]
  },
  {
   "cell_type": "code",
   "execution_count": null,
   "metadata": {
    "collapsed": false,
    "scrolled": false
   },
   "outputs": [],
   "source": [
    "print_neurons(nncls, layer = 0)\n",
    "print_neurons(nncls, layer = 1)\n",
    "print_neurons(nncls, layer = 2)"
   ]
  },
  {
   "cell_type": "markdown",
   "metadata": {
    "collapsed": false
   },
   "source": [
    "# Compare logistic regression for glasses and beards"
   ]
  },
  {
   "cell_type": "code",
   "execution_count": null,
   "metadata": {
    "collapsed": true
   },
   "outputs": [],
   "source": [
    "logit = LogisticRegression(tol=1e-8, max_iter=100)"
   ]
  },
  {
   "cell_type": "code",
   "execution_count": null,
   "metadata": {
    "collapsed": false
   },
   "outputs": [],
   "source": [
    "print logit.fit(flattened_data[gtraining], glasses_and_beard[gtraining])\n"
   ]
  },
  {
   "cell_type": "code",
   "execution_count": null,
   "metadata": {
    "collapsed": false
   },
   "outputs": [],
   "source": [
    "print \"Layer:\", 0\n",
    "print \"  intercept:\", logit.intercept_\n",
    "print \"  Coefs:\", logit.coef_.shape\n",
    "print \"  \", logit.coef_.transpose()"
   ]
  },
  {
   "cell_type": "code",
   "execution_count": null,
   "metadata": {
    "collapsed": false
   },
   "outputs": [],
   "source": [
    "logistic_activations = imshow(logit.coef_.reshape((64,64)), cmap='gist_gray', interpolation=\"nearest\")"
   ]
  },
  {
   "cell_type": "markdown",
   "metadata": {},
   "source": [
    "# ROC Curve for glasses and beards"
   ]
  },
  {
   "cell_type": "code",
   "execution_count": null,
   "metadata": {
    "collapsed": false
   },
   "outputs": [],
   "source": [
    "tpr_l, fpr_l, thh_l = return_roc_curve(flattened_data, glasses_and_beard, logit, ~gtraining)\n",
    "tpr_n, fpr_n, thh_n = return_roc_curve(flattened_data, glasses_and_beard, nncls, ~gtraining)\n",
    "plot_roc(flattened_data, target_glasses, logit, nncls, gtraining)"
   ]
  },
  {
   "cell_type": "code",
   "execution_count": null,
   "metadata": {
    "collapsed": false
   },
   "outputs": [],
   "source": [
    "for i, layer in enumerate(nncls.coefs_):\n",
    "    print \"Layer:\", i\n",
    "    print \"  intercept:\", nncls.intercepts_[i]\n",
    "    print \"  Coefs:\", layer.shape \n",
    "    print layer"
   ]
  },
  {
   "cell_type": "markdown",
   "metadata": {},
   "source": [
    "# Facial Recognition\n",
    "#### Lets complicate a bit further"
   ]
  },
  {
   "cell_type": "code",
   "execution_count": null,
   "metadata": {
    "collapsed": false
   },
   "outputs": [],
   "source": [
    "individuals[itraining]"
   ]
  },
  {
   "cell_type": "markdown",
   "metadata": {},
   "source": [
    "### Specification of hidden layers can have a big effect on a neural nets ability to converge well "
   ]
  },
  {
   "cell_type": "code",
   "execution_count": null,
   "metadata": {
    "collapsed": false
   },
   "outputs": [],
   "source": [
    "nnmlp = MLPClassifier(\n",
    "    activation='tanh', \n",
    "    hidden_layer_sizes=(8,4), \n",
    "    solver='lbfgs', verbose=True, \n",
    "    tol=1e-6, \n",
    "    random_state=2001, \n",
    "    max_iter=15000, \n",
    "    learning_rate_init=1e-3)"
   ]
  },
  {
   "cell_type": "code",
   "execution_count": null,
   "metadata": {
    "collapsed": false,
    "scrolled": true
   },
   "outputs": [],
   "source": [
    "nncls = nnmlp.fit(flattened_data[itraining], individuals[itraining])"
   ]
  },
  {
   "cell_type": "code",
   "execution_count": null,
   "metadata": {
    "collapsed": false
   },
   "outputs": [],
   "source": [
    "print \"Number of layers: %s\\nOutput activations: %s\" % (nncls.n_layers_, nncls.n_outputs_)"
   ]
  },
  {
   "cell_type": "code",
   "execution_count": null,
   "metadata": {
    "collapsed": false
   },
   "outputs": [],
   "source": [
    "for i, layer in enumerate(nncls.coefs_):\n",
    "    print \"Layer:\", i\n",
    "    print \"  intercept:\", nncls.intercepts_[i]\n",
    "    print \"  Coefs:\", layer.shape \n",
    "    print layer"
   ]
  },
  {
   "cell_type": "code",
   "execution_count": null,
   "metadata": {
    "collapsed": false
   },
   "outputs": [],
   "source": [
    "print_neurons(nncls, layer = 0)\n",
    "print_neurons(nncls, layer = 1)"
   ]
  },
  {
   "cell_type": "code",
   "execution_count": null,
   "metadata": {
    "collapsed": false
   },
   "outputs": [],
   "source": [
    "list(np.round(nncls.predict_proba(flattened_data[~individuals]),2))"
   ]
  },
  {
   "cell_type": "markdown",
   "metadata": {
    "collapsed": false
   },
   "source": [
    "# Compare logistic regression for glasses and beards"
   ]
  },
  {
   "cell_type": "code",
   "execution_count": null,
   "metadata": {
    "collapsed": false
   },
   "outputs": [],
   "source": [
    "logit = LogisticRegression(max_iter=100, multi_class='multinomial', solver='lbfgs')"
   ]
  },
  {
   "cell_type": "code",
   "execution_count": null,
   "metadata": {
    "collapsed": false
   },
   "outputs": [],
   "source": [
    "print logit.fit(flattened_data[itraining], individuals[itraining])\n"
   ]
  },
  {
   "cell_type": "code",
   "execution_count": null,
   "metadata": {
    "collapsed": false
   },
   "outputs": [],
   "source": [
    "print \"Layer:\", 0\n",
    "print \"  intercept:\", logit.intercept_\n",
    "print \"  Coefs:\", logit.coef_.shape\n",
    "print \"  \", logit.coef_.transpose()"
   ]
  },
  {
   "cell_type": "code",
   "execution_count": null,
   "metadata": {
    "collapsed": false
   },
   "outputs": [],
   "source": [
    "logistic_activations = imshow(\n",
    "    logit.coef_[2].reshape((64,64)), cmap='gist_gray', interpolation=\"nearest\")\n",
    "plt.show()\n",
    "logistic_activations = imshow(\n",
    "    logit.coef_[5].reshape((64,64)), cmap='gist_gray', interpolation=\"nearest\")\n"
   ]
  },
  {
   "cell_type": "markdown",
   "metadata": {},
   "source": [
    "# Accuracy comparison for individual facial recognition"
   ]
  },
  {
   "cell_type": "code",
   "execution_count": null,
   "metadata": {
    "collapsed": false,
    "scrolled": true
   },
   "outputs": [],
   "source": [
    "print logit.score(flattened_data, individuals)\n",
    "print nncls.score(flattened_data, individuals)"
   ]
  },
  {
   "cell_type": "markdown",
   "metadata": {},
   "source": [
    "# Neural Net Example with Continuous Target"
   ]
  },
  {
   "cell_type": "code",
   "execution_count": null,
   "metadata": {
    "collapsed": false
   },
   "outputs": [],
   "source": [
    "from sklearn.datasets import load_boston\n",
    "housing = load_boston()\n",
    "#help(housing)\n",
    "print housing.target\n",
    "print housing.data"
   ]
  },
  {
   "cell_type": "code",
   "execution_count": null,
   "metadata": {
    "collapsed": false
   },
   "outputs": [],
   "source": [
    "nnmlp = MLPRegressor(\n",
    "    activation='identity', \n",
    "    hidden_layer_sizes=(4,2), \n",
    "    solver='lbfgs', verbose=True, \n",
    "    tol=1e-5, random_state=2000, max_iter=10000, learning_rate_init=1e-4)"
   ]
  },
  {
   "cell_type": "code",
   "execution_count": null,
   "metadata": {
    "collapsed": false,
    "scrolled": true
   },
   "outputs": [],
   "source": [
    "nncls = nnmlp.fit(housing.data, housing.target)"
   ]
  },
  {
   "cell_type": "code",
   "execution_count": null,
   "metadata": {
    "collapsed": false
   },
   "outputs": [],
   "source": [
    "np.mean((nncls.predict(housing.data)-housing.target)**2)"
   ]
  },
  {
   "cell_type": "code",
   "execution_count": null,
   "metadata": {
    "collapsed": false
   },
   "outputs": [],
   "source": [
    "linear = LinearRegression()\n",
    "linear.fit(housing.data, housing.target)\n",
    "np.mean((linear.predict(housing.data)-housing.target)**2)"
   ]
  }
 ],
 "metadata": {
  "anaconda-cloud": {},
  "kernelspec": {
   "display_name": "Python [default]",
   "language": "python",
   "name": "python2"
  },
  "language_info": {
   "codemirror_mode": {
    "name": "ipython",
    "version": 2
   },
   "file_extension": ".py",
   "mimetype": "text/x-python",
   "name": "python",
   "nbconvert_exporter": "python",
   "pygments_lexer": "ipython2",
   "version": "2.7.12"
  }
 },
 "nbformat": 4,
 "nbformat_minor": 1
}
